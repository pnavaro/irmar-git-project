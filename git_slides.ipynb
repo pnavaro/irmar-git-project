{
 "cells": [
  {
   "cell_type": "markdown",
   "metadata": {},
   "source": [
    "% Quick review of Git\n",
    "% Pierre Navaro\n",
    "% Institut de Mathematique de Rennes\n",
    "\n",
    "# About Dropbox\n",
    "\n",
    "- Dropbox versioning is not free.\n",
    "- Only keep your edits over a period of 30 days.\n",
    "- Privacy and Security ?\n",
    "- No differences display.\n",
    "- The service have the right to delete information from free and inactive accounts.\n",
    "- Users are not allowed to perform encryption.\n",
    "\n",
    "# New products based on a git server for collaborating writing.\n",
    "\n",
    "- ShareLaTeX (https://fr.sharelatex.com)\n",
    "- Authorea (https://www.authorea.com)\n",
    "- Overleaf (https://www.overleaf.com)\n",
    "\n",
    "# About Version Control\n",
    "\n",
    "- Records changes to a file or set of files over time.\n",
    "- You can recall specific versions later.\n",
    "- You can use it with nearly any type of file on a computer.\n",
    "- This is the better way to collaborate on the same document.\n",
    "- Every change is committed with an author and a date.\n",
    "- Figures are downloaded from [Pro Git book](http://git-scm.com/book).\n",
    "- \"Become a git guru\" tutorial (https://www.atlassian.com/git/tutorials).\n",
    "\n",
    "\n",
    "# Local Version Control Systems\n",
    "\n",
    "![Loca](local.png)\n",
    "\n",
    "- One of the most saving popular was a system called RCS\n",
    "- Available with the Developer Tools with Mac OS X\n",
    "- Collaboration is not really possible.\n",
    "\n",
    "\n",
    "# Centralized Version Control Systems\n",
    "\n",
    "![CVS](cvs.png)\n",
    "- Clients check out files from a central place.\n",
    "- You know what everyone else on the project is doing\n",
    "- A single server contains all the versioned files.\n",
    "- For many years, this has been the standard (CVS, SVN).\n",
    "- You always need network connection.\n",
    "- If the server is corrupted, with no backup, you lose everything !\n",
    "\n",
    "\n",
    "# Distributed Version Control Systems\n",
    "![Git](git.png)\n",
    "- Clients fully mirror the repository.\n",
    "- You can collaborate with different groups of people in different ways simultaneously within the same project.\n",
    "- No need of network connection.\n",
    "- Multiple backups.\n",
    "\n",
    "\n",
    "# Configure Git"
   ]
  },
  {
   "cell_type": "code",
   "execution_count": null,
   "metadata": {},
   "outputs": [],
   "source": [
    "%%bash\n",
    "git config ---global user.name \"Pierre Navaro\"\n",
    "git config ---global user.email \"pierre.navaro@univ-rennes1.fr\"\n",
    "git config ---global core.editor mvim\n",
    "git config ---global merge.tool opendiff"
   ]
  },
  {
   "cell_type": "code",
   "execution_count": null,
   "metadata": {},
   "outputs": [],
   "source": [
    "%%bash\n",
    "git config ---list\n",
    "   user.name=Pierre Navaro\n",
    "   user.email=pierre.navaro@univ-rennes1.fr\n",
    "   core.editor=mvim\n",
    "   merge.tool=opendiff"
   ]
  },
  {
   "cell_type": "markdown",
   "metadata": {},
   "source": [
    "Settings are saved on the computer for all your git repositories.\n",
    "\n",
    "# Four File status in the repository\n",
    "\n",
    "![Status](18333fig0201-tn.png)\n",
    "\n",
    "# Initializing a Repository in an Existing Directory"
   ]
  },
  {
   "cell_type": "code",
   "execution_count": null,
   "metadata": {},
   "outputs": [],
   "source": [
    "%%bash\n",
    "cd article\n",
    "ls"
   ]
  },
  {
   "cell_type": "code",
   "execution_count": null,
   "metadata": {},
   "outputs": [],
   "source": [
    "document.tex\tfigure.png"
   ]
  },
  {
   "cell_type": "markdown",
   "metadata": {},
   "source": [
    "git init"
   ]
  },
  {
   "cell_type": "code",
   "execution_count": null,
   "metadata": {},
   "outputs": [],
   "source": [
    "Initialized empty Git repository in /Users/navaro/article/.git/"
   ]
  },
  {
   "cell_type": "markdown",
   "metadata": {},
   "source": [
    "git status\n",
    "On branch master\n",
    "Initial commit\n",
    "Untracked files:\n",
    "  (use \"git add <file>...\" to include in what will be committed)"
   ]
  },
  {
   "cell_type": "code",
   "execution_count": null,
   "metadata": {},
   "outputs": [],
   "source": [
    "document.tex\n",
    "figure.png"
   ]
  },
  {
   "cell_type": "markdown",
   "metadata": {},
   "source": [
    "nothing added to commit but untracked files present\n",
    "(use \"git add\" to track)"
   ]
  },
  {
   "cell_type": "code",
   "execution_count": null,
   "metadata": {},
   "outputs": [],
   "source": [
    "\n",
    "# Adding files in your repository\n",
    "\n",
    "git add document.tex\n",
    "git add figure.png\n",
    "git status\n",
    "On branch master\n",
    "Initial commit\n",
    "Changes to be committed:\n",
    "  (use \"git rm --cached <file>...\" to unstage)\n",
    "\n",
    "\tnew file:   document.tex\n",
    "\tnew file:   figure.png\n",
    "\n",
    "git commit -m 'Initial project version'}@>\n",
    "[master (root-commit) 9d23b49] Initial project version\n",
    " 2 files changed, 0 insertions(+), 0 deletions(-)\n",
    " create mode 100644 document.tex\n",
    " create mode 100644 figure.png\n",
    "\n",
    "\n",
    "# Cloning a New Directory\n"
   ]
  },
  {
   "cell_type": "markdown",
   "metadata": {},
   "source": [
    "git clone git@git.math.cnrs.fr:plm/navaro/projet\n",
    "Cloning into 'projet'...\n",
    "Initialized empty Git repository in /git/repositories/plm/navaro/projet.git/\n",
    "warning: You appear to have cloned an empty repository.\n",
    "Checking connectivity... done."
   ]
  },
  {
   "cell_type": "code",
   "execution_count": null,
   "metadata": {},
   "outputs": [],
   "source": [
    "\n",
    "Now you can add and commit your files.\n"
   ]
  },
  {
   "cell_type": "markdown",
   "metadata": {},
   "source": [
    "cd projet\n",
    "./article/*\n",
    "git add document.tex\n",
    "git add figure.png\n",
    "git commit -m 'Initial version of the project'\n",
    "\n",
    "Your files are NOT present on the server!\n",
    "\n",
    "git status\n",
    "On branch master\n",
    "Your branch is based on 'origin/master', but the upstream is gone.\n",
    "  (use \"git branch --unset-upstream\" to fixup)\n",
    "nothing to commit, working directory clean"
   ]
  },
  {
   "cell_type": "code",
   "execution_count": null,
   "metadata": {},
   "outputs": [],
   "source": [
    "\n",
    "# Synchronizing your files on the server\n",
    "\n",
    " By default you are on the \"master\" branch.\n"
   ]
  },
  {
   "cell_type": "markdown",
   "metadata": {},
   "source": [
    "git branch\n",
    "* master\n",
    "Upload your files to the server:\n",
    "git push origin master\n",
    "To git@git.math.cnrs.fr:plm/navaro/projet\n",
    " * [new branch]      master -> master"
   ]
  },
  {
   "cell_type": "code",
   "execution_count": null,
   "metadata": {},
   "outputs": [],
   "source": [
    "\n",
    "# Git Workflow\n",
    "![Four stages](four_stages.png)\n",
    "\n",
    "# Cloning an Existing Directory\n",
    "Now i change my computer."
   ]
  },
  {
   "cell_type": "markdown",
   "metadata": {},
   "source": [
    "git clone git@git.math.cnrs.fr:plm/navaro/projet\n",
    "Cloning into 'projet'...\n",
    "remote: Counting objects: 3, done.\n",
    "remote: Compressing objects: 100% (2/2), done.\n",
    "remote: Total 3 (delta 0), reused 0 (delta 0)\n",
    "Receiving objects: 100% (3/3), 246 bytes | 0 bytes/s, done.\n",
    "Checking connectivity... done.\n",
    "cd projet\n",
    "ls\n",
    "document.tex\tfigure.png\n",
    "git log\n",
    "commit 7cef21ac9119ef2fb97065c9e5549550e2f603fd\n",
    "Author: Pierre Navaro <pierre.navaro@univ-rennes1.fr>\n",
    "Date:   Fri Oct 2 13:51:43 2015 +0200"
   ]
  },
  {
   "cell_type": "code",
   "execution_count": null,
   "metadata": {},
   "outputs": [],
   "source": [
    "Initial version of the project\n",
    "```"
   ]
  },
  {
   "cell_type": "markdown",
   "metadata": {},
   "source": [
    "# Display and Create a Branch\n",
    "\n",
    "Display all branches :"
   ]
  },
  {
   "cell_type": "code",
   "execution_count": null,
   "metadata": {},
   "outputs": [],
   "source": [
    "git branch -a\n",
    "* master\n",
    "  remotes/origin/HEAD -> origin/master\n",
    "  remotes/origin/master"
   ]
  },
  {
   "cell_type": "markdown",
   "metadata": {},
   "source": [
    "Create your own branch and switch:"
   ]
  },
  {
   "cell_type": "code",
   "execution_count": null,
   "metadata": {},
   "outputs": [],
   "source": [
    "git branch pierre-branch}@>\n",
    "git checkout pierre-branch}@>"
   ]
  },
  {
   "cell_type": "markdown",
   "metadata": {},
   "source": [
    "Switched to branch 'pierre-branch'"
   ]
  },
  {
   "cell_type": "code",
   "execution_count": null,
   "metadata": {},
   "outputs": [],
   "source": [
    "git branch\n",
    "  master\n",
    "* pierre-branch\n",
    "Files could be different or non existant between branches but are at the same place on the file system\n",
    "\n",
    "\n",
    "# Contributing\n",
    "\n",
    "Modify the file document.tex\n"
   ]
  },
  {
   "cell_type": "markdown",
   "metadata": {},
   "source": [
    "git status\n",
    "On branch pierre-branch\n",
    "Changes not staged for commit:\n",
    "  (use \"git add <file>...\" to update what will be committed)\n",
    "  (use \"git checkout -- <file>...\" to discard changes in working directory)\n",
    "\tmodified:   document.tex\n",
    "no changes added to commit (use \"git add\" and/or \"git commit -a\")"
   ]
  },
  {
   "cell_type": "code",
   "execution_count": null,
   "metadata": {},
   "outputs": [],
   "source": [
    "git diff\n",
    "diff --git a/document.tex b/document.tex\n",
    "index a608114..e69de29 100644\n",
    "--- a/document.tex\n",
    "+++ b/document.tex\n",
    "@@ -1,3 +0,0 @@\n",
    "-Exemple Git pour la journee de rentree\n",
    "\n",
    "# Locally saving your modifications\n"
   ]
  },
  {
   "cell_type": "markdown",
   "metadata": {},
   "source": [
    "git add document.tex"
   ]
  },
  {
   "cell_type": "code",
   "execution_count": null,
   "metadata": {},
   "outputs": [],
   "source": [
    "Checking which files are ready to be committed.\n"
   ]
  },
  {
   "cell_type": "markdown",
   "metadata": {},
   "source": [
    "git status\n",
    "On branch pierre-branch\n",
    "Changes to be committed:\n",
    "  (use \"git reset HEAD <file>...\" to unstage)\n",
    "\tmodified:   document.tex"
   ]
  },
  {
   "cell_type": "code",
   "execution_count": null,
   "metadata": {},
   "outputs": [],
   "source": [
    "Now save your work on the local branch.\n"
   ]
  },
  {
   "cell_type": "markdown",
   "metadata": {},
   "source": [
    "git commit -m 'Some modification is available\n",
    "[pierre-branch 8c6bf81] Some modification is available\n",
    " 1 file changed, 3 insertions(+)"
   ]
  },
  {
   "cell_type": "code",
   "execution_count": null,
   "metadata": {},
   "outputs": [],
   "source": [
    "\n",
    "# Fast commit\n",
    "\n",
    "![Index1](index1.png)\n",
    "![Index2](index2.png)\n",
    "\n",
    "Use it carefully!\n",
    "\n",
    "How to share your work and make it available on the server?\n",
    "\n",
    "# Option 1 : Merge to the main branch and push\n"
   ]
  },
  {
   "cell_type": "markdown",
   "metadata": {},
   "source": [
    "git checkout master\n",
    "Switched to branch 'master'\n",
    "Your branch is up-to-date with 'origin/master'.\n",
    "git merge pierre-branch\n",
    "Updating 7cef21a..8c6bf81\n",
    "Fast-forward\n",
    " document.tex | 3 +++\n",
    " 1 file changed, 3 insertions(+)\n",
    "git push origin master\n",
    "Counting objects: 3, done.\n",
    "Delta compression using up to 8 threads.\n",
    "Compressing objects: 100% (3/3), done.\n",
    "Writing objects: 100% (3/3), 351 bytes | 0 bytes/s, done.\n",
    "Total 3 (delta 0), reused 0 (delta 0)\n",
    "To git@git.math.cnrs.fr:plm/navaro/projet\n",
    "   7cef21a..8c6bf81  master -> master"
   ]
  },
  {
   "cell_type": "code",
   "execution_count": null,
   "metadata": {},
   "outputs": [],
   "source": [
    "\n",
    "# Option 2 : Push your branch to the server\n"
   ]
  },
  {
   "cell_type": "markdown",
   "metadata": {},
   "source": [
    "git checkout pierre-branch\n",
    "Switched to branch 'pierre-branch'\n",
    "git push origin pierre-branch\n",
    "Total 0 (delta 0), reused 0 (delta 0)\n",
    "To git@git.math.cnrs.fr:plm/navaro/projet\n",
    " * [new branch]      pierre-branch -> pierre-branch\n",
    "git branch -a\n",
    "  master\n",
    "* pierre-branch\n",
    "  remotes/origin/HEAD -> origin/master\n",
    "  remotes/origin/master\n",
    "  remotes/origin/pierre-branch"
   ]
  },
  {
   "cell_type": "code",
   "execution_count": null,
   "metadata": {},
   "outputs": [],
   "source": [
    "\n",
    "# Updating from the Repository\n",
    "\n",
    "The master branch has changed. To get all new updates :\n"
   ]
  },
  {
   "cell_type": "markdown",
   "metadata": {},
   "source": [
    "git checkout master      (change to master)\n",
    "Switched to branch 'master'\n",
    "git fetch origin         (download changes from repository)\n",
    "git merge origin/master  (update local branch master)\n",
    "git checkout pierre-branch (back to your branch)\n",
    "Switched to branch 'pierre-branch'\n",
    "git merge master          (update your branch)\n",
    "If you have conflict, no problem just do :\n",
    "git mergetool\n",
    "A nice editor helps you to choose the right version. Close and :\n",
    "git commit -m 'Update and fixed conflicts'\n",
    "```\n",
    "\n",
    "# Git cycle on a single branch\n",
    "\n",
    "![Cycle](git_cycle.png)\n",
    "\n",
    "\n",
    "# Progressive-stability branching\n",
    "\n",
    "![Branches](lr-branches-2.png)\n",
    "\n",
    "# GitHub Desktop - Modifications view\n",
    "\n",
    "![Desktop](desktop.png)\n",
    "\n",
    "# GitHub Desktop - History view\n",
    "\n",
    "![Desktop2](desktop2.png)\n",
    "\n",
    "# Why Git?\n",
    "Tracking and controlling changes in the software.\n",
    "\n",
    "- Branches : Frictionless Context Switching, Role-Based Codelines.\n",
    "- Everything is local : Git is fast.\n",
    "- Multiple Backups.\n",
    "- It's impossible to get anything out of Git other than the exact bits you put in.\n",
    "- Staging Area : intermediate index between working directory and repository.\n",
    "- Sometimes confusing for new users.\n",
    "\n",
    "# Some hints.\n",
    "\n",
    "- Install bash-completion and source git-prompt.sh.\n",
    "- use [GitHub Desktop](https://desktop.github.com/)"
   ]
  },
  {
   "cell_type": "code",
   "execution_count": 1,
   "metadata": {},
   "outputs": [
    {
     "name": "stdout",
     "output_type": "stream",
     "text": [
      "On branch master\n",
      "Your branch is ahead of 'origin/master' by 1 commit.\n",
      "  (use \"git push\" to publish your local commits)\n",
      "\n",
      "Changes not staged for commit:\n",
      "  (use \"git add <file>...\" to update what will be committed)\n",
      "  (use \"git checkout -- <file>...\" to discard changes in working directory)\n",
      "\n",
      "\tmodified:   slides.md\n",
      "\n",
      "Untracked files:\n",
      "  (use \"git add <file>...\" to include in what will be committed)\n",
      "\n",
      "\t.ipynb_checkpoints/\n",
      "\tbeamer.pdf\n",
      "\tgit_slides.ipynb\n",
      "\tslidy.html\n",
      "\n",
      "no changes added to commit (use \"git add\" and/or \"git commit -a\")\n"
     ]
    }
   ],
   "source": [
    "%%bash\n",
    "git status"
   ]
  },
  {
   "cell_type": "code",
   "execution_count": null,
   "metadata": {},
   "outputs": [],
   "source": []
  }
 ],
 "metadata": {
  "kernelspec": {
   "display_name": "Python 3",
   "language": "python",
   "name": "python3"
  },
  "language_info": {
   "codemirror_mode": {
    "name": "ipython",
    "version": 3
   },
   "file_extension": ".py",
   "mimetype": "text/x-python",
   "name": "python",
   "nbconvert_exporter": "python",
   "pygments_lexer": "ipython3",
   "version": "3.6.4"
  }
 },
 "nbformat": 4,
 "nbformat_minor": 2
}
