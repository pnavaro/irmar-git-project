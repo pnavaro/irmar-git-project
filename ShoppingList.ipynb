{
 "cells": [
  {
   "cell_type": "code",
   "execution_count": 33,
   "metadata": {},
   "outputs": [
    {
     "data": {
      "text/plain": [
       "defined \u001b[32mclass\u001b[39m \u001b[36mArticle\u001b[39m"
      ]
     },
     "execution_count": 33,
     "metadata": {},
     "output_type": "execute_result"
    }
   ],
   "source": [
    "case class Article(\n",
    "                    name: String,\n",
    "                    priceWithoutCut: Double,\n",
    "                    cutPercentage: Double,\n",
    "                    category: String,\n",
    "                    vatPercentage: Double,\n",
    "                    quantity: Int,\n",
    "                    ingredients: List[String]\n",
    "                    ) {\n",
    "\n",
    "  override def toString = this.name\n",
    "  \n",
    "}"
   ]
  },
  {
   "cell_type": "code",
   "execution_count": 34,
   "metadata": {},
   "outputs": [
    {
     "data": {
      "text/plain": [
       "defined \u001b[32mobject\u001b[39m \u001b[36mShoppingList\u001b[39m"
      ]
     },
     "execution_count": 34,
     "metadata": {},
     "output_type": "execute_result"
    }
   ],
   "source": [
    "object ShoppingList {\n",
    "\n",
    "  def get = List(\n",
    "    Article(\"Boeuf\", 12.3, 0, \"Viandes\", 10, 1, List(\"Boeuf\")),\n",
    "    Article(\"Porc\", 7.99, 5, \"Viandes\", 10, 1, List(\"Porc\")),\n",
    "    Article(\"Sauce Tomate\", 2, 0, \"Conserves\", 10, 3, List(\"Tomate\", \"Eau\", \"Sel\", \"Sucre\", \"Conservateur\")),\n",
    "    Article(\"Petits Pois\", 3.5, 10, \"Conserves\", 10, 2, List(\"Petits pois\", \"Eau\", \"Sel\", \"Conservateur\")),\n",
    "    Article(\"Thon\", 1.50, 0, \"Conserves\", 20, 3, List(\"Thon\", \"Huile\", \"Sel\", \"Eau\", \"Conservateur\"))\n",
    "  )\n",
    "}"
   ]
  },
  {
   "cell_type": "code",
   "execution_count": 35,
   "metadata": {},
   "outputs": [
    {
     "data": {
      "text/plain": [
       "\u001b[36mshoppingList\u001b[39m: \u001b[32mList\u001b[39m[\u001b[32mArticle\u001b[39m] = \u001b[33mList\u001b[39m(Boeuf, Porc, Sauce Tomate, Petits Pois, Thon)"
      ]
     },
     "execution_count": 35,
     "metadata": {},
     "output_type": "execute_result"
    }
   ],
   "source": [
    "val shoppingList = ShoppingList.get"
   ]
  },
  {
   "cell_type": "code",
   "execution_count": 36,
   "metadata": {},
   "outputs": [
    {
     "name": "stdout",
     "output_type": "stream",
     "text": [
      "Les articles de catégorie viande sont : List(Boeuf, Porc)\n"
     ]
    },
    {
     "data": {
      "text/plain": [
       "defined \u001b[32mfunction\u001b[39m \u001b[36marticlesWithMeat\u001b[39m"
      ]
     },
     "execution_count": 36,
     "metadata": {},
     "output_type": "execute_result"
    }
   ],
   "source": [
    "def articlesWithMeat:List[Article] = \n",
    "    shoppingList.filter(x => x.category == \"Viandes\")\n",
    "\n",
    "println(\"Les articles de catégorie viande sont : \" + articlesWithMeat)"
   ]
  },
  {
   "cell_type": "code",
   "execution_count": 37,
   "metadata": {},
   "outputs": [
    {
     "name": "stdout",
     "output_type": "stream",
     "text": [
      "Les prix TTC sont : List((Boeuf,13.530000000000001), (Porc,8.789000000000001), (Sauce Tomate,2.2), (Petits Pois,3.8500000000000005), (Thon,1.7999999999999998))\n"
     ]
    },
    {
     "data": {
      "text/plain": [
       "defined \u001b[32mfunction\u001b[39m \u001b[36mpricesWithVat\u001b[39m"
      ]
     },
     "execution_count": 37,
     "metadata": {},
     "output_type": "execute_result"
    }
   ],
   "source": [
    "def pricesWithVat:List[(String, Double)] = \n",
    "    shoppingList.map( \n",
    "        x => (x.name,x.priceWithoutCut*(1+x.vatPercentage*0.01)))\n",
    "\n",
    "println(\"Les prix TTC sont : \" + pricesWithVat)"
   ]
  },
  {
   "cell_type": "code",
   "execution_count": 38,
   "metadata": {},
   "outputs": [
    {
     "name": "stdout",
     "output_type": "stream",
     "text": [
      "Les ingrédients sont : List(Boeuf, Porc, Tomate, Eau, Sel, Sucre, Conservateur, Petits pois, Thon, Huile)\n"
     ]
    },
    {
     "data": {
      "text/plain": [
       "defined \u001b[32mfunction\u001b[39m \u001b[36mingredientsList\u001b[39m"
      ]
     },
     "execution_count": 38,
     "metadata": {},
     "output_type": "execute_result"
    }
   ],
   "source": [
    "def ingredientsList:List[String] = \n",
    "    shoppingList.flatMap(x => x.ingredients).distinct\n",
    "\n",
    "println(\"Les ingrédients sont : \" + ingredientsList)"
   ]
  },
  {
   "cell_type": "code",
   "execution_count": 39,
   "metadata": {},
   "outputs": [
    {
     "data": {
      "text/plain": [
       "\u001b[36ml\u001b[39m: \u001b[32mList\u001b[39m[(\u001b[32mString\u001b[39m, \u001b[32mInt\u001b[39m)] = \u001b[33mList\u001b[39m((\u001b[32m\"Un\"\u001b[39m, \u001b[32m1\u001b[39m), (\u001b[32m\"Deux\"\u001b[39m, \u001b[32m2\u001b[39m), (\u001b[32m\"Trois\"\u001b[39m, \u001b[32m3\u001b[39m), (\u001b[32m\"Quatre\"\u001b[39m, \u001b[32m4\u001b[39m))\n",
       "\u001b[36mres38_1\u001b[39m: \u001b[32mList\u001b[39m[\u001b[32mInt\u001b[39m] = \u001b[33mList\u001b[39m(\u001b[32m1\u001b[39m, \u001b[32m2\u001b[39m, \u001b[32m3\u001b[39m, \u001b[32m4\u001b[39m)"
      ]
     },
     "execution_count": 39,
     "metadata": {},
     "output_type": "execute_result"
    }
   ],
   "source": [
    "val l = List((\"Un\",1),(\"Deux\",2),(\"Trois\",3),(\"Quatre\",4))\n",
    "l.map( e => e._2)"
   ]
  },
  {
   "cell_type": "code",
   "execution_count": 40,
   "metadata": {
    "scrolled": true
   },
   "outputs": [
    {
     "name": "stdout",
     "output_type": "stream",
     "text": [
      "Le total de la facture est : 40.80955\n"
     ]
    },
    {
     "data": {
      "text/plain": [
       "defined \u001b[32mfunction\u001b[39m \u001b[36mgetArticleTotalPrice\u001b[39m\n",
       "defined \u001b[32mfunction\u001b[39m \u001b[36mtotalInvoice\u001b[39m"
      ]
     },
     "execution_count": 40,
     "metadata": {},
     "output_type": "execute_result"
    }
   ],
   "source": [
    "def getArticleTotalPrice:(Article) => Double =\n",
    "      a => a.priceWithoutCut*(1+0.01*a.vatPercentage)*(1-0.01*a.cutPercentage)*a.quantity\n",
    "\n",
    "def totalInvoice:Double = \n",
    "    shoppingList\n",
    "        .map(getArticleTotalPrice)\n",
    "        .sum\n",
    "\n",
    "println(\"Le total de la facture est : \" + totalInvoice)"
   ]
  },
  {
   "cell_type": "code",
   "execution_count": 42,
   "metadata": {},
   "outputs": [
    {
     "name": "stdout",
     "output_type": "stream",
     "text": [
      "Le total pour la catégorie viande est : 21.879550000000002\n"
     ]
    },
    {
     "data": {
      "text/plain": [
       "defined \u001b[32mfunction\u001b[39m \u001b[36mtotalFor\u001b[39m"
      ]
     },
     "execution_count": 42,
     "metadata": {},
     "output_type": "execute_result"
    }
   ],
   "source": [
    "def totalFor(category:String):Double =shoppingList\n",
    "    .filter( x => x.category == category)\n",
    "    .map(getArticleTotalPrice)\n",
    "    .sum\n",
    "\n",
    "println(\"Le total pour la catégorie viande est : \" + totalFor(\"Viandes\"))"
   ]
  },
  {
   "cell_type": "code",
   "execution_count": 45,
   "metadata": {},
   "outputs": [
    {
     "name": "stdout",
     "output_type": "stream",
     "text": [
      "Les prix par catégorie sont : List((Viandes,21.879550000000002), (Conserves,18.93))\n"
     ]
    },
    {
     "data": {
      "text/plain": [
       "defined \u001b[32mfunction\u001b[39m \u001b[36msumByFirstTupleElement\u001b[39m\n",
       "defined \u001b[32mfunction\u001b[39m \u001b[36mpriceByCategory\u001b[39m"
      ]
     },
     "execution_count": 45,
     "metadata": {},
     "output_type": "execute_result"
    }
   ],
   "source": [
    "def sumByFirstTupleElement(acc:List[(String, Double)], element:(String, Double)) = (acc, element) match {\n",
    "    case (Nil, a) => a::Nil\n",
    "    case ((x1, x2)::xs, (a,b)) if x1 == a => (x1, x2 + b)::xs\n",
    "    case (x::xs, a) => a::x::xs\n",
    "  }\n",
    "\n",
    "def priceByCategory:List[(String, Double)] = shoppingList\n",
    "    .map(x => (x.category,getArticleTotalPrice(x)))\n",
    "    .sortBy(_._1)\n",
    "    .foldLeft(List[(String, Double)]())(sumByFirstTupleElement)\n",
    "\n",
    "println(\"Les prix par catégorie sont : \" + priceByCategory)"
   ]
  },
  {
   "cell_type": "code",
   "execution_count": 47,
   "metadata": {},
   "outputs": [
    {
     "name": "stdout",
     "output_type": "stream",
     "text": [
      "Les prix par catégorie sont : List((Viandes,21.879550000000002), (Conserves,18.93))\n"
     ]
    },
    {
     "data": {
      "text/plain": [
       "defined \u001b[32mfunction\u001b[39m \u001b[36mpriceByCategory\u001b[39m"
      ]
     },
     "execution_count": 47,
     "metadata": {},
     "output_type": "execute_result"
    }
   ],
   "source": [
    "def priceByCategory:List[(String, Double)] = shoppingList\n",
    "  .groupBy(_.category)\n",
    "  .mapValues(_.map(getArticleTotalPrice).sum)\n",
    "  .toList\n",
    "\n",
    "println(\"Les prix par catégorie sont : \" + priceByCategory)"
   ]
  },
  {
   "cell_type": "code",
   "execution_count": 48,
   "metadata": {},
   "outputs": [
    {
     "name": "stdout",
     "output_type": "stream",
     "text": [
      "Les prix par catégorie sont : List((Viandes,21.879550000000002), (Conserves,18.93))\n"
     ]
    },
    {
     "data": {
      "text/plain": [
       "defined \u001b[32mfunction\u001b[39m \u001b[36mpriceByCategory\u001b[39m"
      ]
     },
     "execution_count": 48,
     "metadata": {},
     "output_type": "execute_result"
    }
   ],
   "source": [
    "def priceByCategory:List[(String, Double)] = shoppingList\n",
    "  .groupBy(_.category)\n",
    "    .map{ x => \n",
    "        x match {\n",
    "            case(key, values) => (key, values.map(getArticleTotalPrice).sum)\n",
    "        } }\n",
    "    .toList\n",
    "\n",
    "println(\"Les prix par catégorie sont : \" + priceByCategory)"
   ]
  },
  {
   "cell_type": "code",
   "execution_count": 51,
   "metadata": {},
   "outputs": [
    {
     "name": "stdout",
     "output_type": "stream",
     "text": [
      "Le total de TVA est : 4.11905\n"
     ]
    },
    {
     "data": {
      "text/plain": [
       "defined \u001b[32mfunction\u001b[39m \u001b[36mtotalVat\u001b[39m\n",
       "defined \u001b[32mfunction\u001b[39m \u001b[36mgetArticleTotalVat\u001b[39m"
      ]
     },
     "execution_count": 51,
     "metadata": {},
     "output_type": "execute_result"
    }
   ],
   "source": [
    "def totalVat:Double = shoppingList\n",
    "    .map(getArticleTotalVat)\n",
    "    .reduce((prix1,prix2) => prix1 + prix2)\n",
    "\n",
    "def getArticleTotalVat: (Article) => Double = {\n",
    "    article => article.priceWithoutCut * article.vatPercentage / 100 * (1 - article.cutPercentage / 100) * article.quantity\n",
    "  }\n",
    "\n",
    "println(\"Le total de TVA est : \" + totalVat)"
   ]
  },
  {
   "cell_type": "code",
   "execution_count": 50,
   "metadata": {},
   "outputs": [
    {
     "name": "stdout",
     "output_type": "stream",
     "text": [
      "Le total des réduction est : 1.2094500000000001\n"
     ]
    },
    {
     "data": {
      "text/plain": [
       "defined \u001b[32mfunction\u001b[39m \u001b[36mtotalCut\u001b[39m\n",
       "defined \u001b[32mfunction\u001b[39m \u001b[36mgetArticleTotalCut\u001b[39m"
      ]
     },
     "execution_count": 50,
     "metadata": {},
     "output_type": "execute_result"
    }
   ],
   "source": [
    "def totalCut:Double = shoppingList\n",
    "    .map(getArticleTotalCut)\n",
    "    .foldLeft(0d)((prix1, prix2) => prix1 + prix2)\n",
    "\n",
    "def getArticleTotalCut: (Article) => Double = {\n",
    "    article => article.priceWithoutCut * (1 + article.vatPercentage / 100) * article.cutPercentage / 100 * article.quantity\n",
    "  }\n",
    "\n",
    "\n",
    "println(\"Le total des réduction est : \" + totalCut)\n"
   ]
  },
  {
   "cell_type": "code",
   "execution_count": 49,
   "metadata": {},
   "outputs": [
    {
     "name": "stdout",
     "output_type": "stream",
     "text": [
      "Les trois premiers ingrédients sont : List(Sel, Eau, Conservateur)\n"
     ]
    },
    {
     "data": {
      "text/plain": [
       "defined \u001b[32mfunction\u001b[39m \u001b[36mtopIngredients\u001b[39m"
      ]
     },
     "execution_count": 49,
     "metadata": {},
     "output_type": "execute_result"
    }
   ],
   "source": [
    "def topIngredients(i:Int):List[String] = shoppingList\n",
    "    .flatMap(x => x.ingredients)\n",
    "    .map(x => (x, 1d))\n",
    "    .sortBy(_._1)\n",
    "    .foldLeft(List[(String, Double)]())(sumByFirstTupleElement)\n",
    "    .sortBy(x => - x._2)\n",
    "    .map(x => x._1)\n",
    "    .take(3)\n",
    "\n",
    "println(\"Les trois premiers ingrédients sont : \" + topIngredients(3))"
   ]
  },
  {
   "cell_type": "code",
   "execution_count": 13,
   "metadata": {},
   "outputs": [
    {
     "name": "stdout",
     "output_type": "stream",
     "text": [
      "Les articles de catégorie viande sont : List(Boeuf, Porc)\n",
      "Les prix TTC sont : List((Boeuf,13.530000000000001), (Porc,8.789000000000001), (Sauce Tomate,2.2), (Petits Pois,3.8500000000000005), (Thon,1.7999999999999998))\n",
      "Les ingrédients sont : List(Boeuf, Porc, Tomate, Eau, Sel, Sucre, Conservateur, Petits pois, Eau, Sel, Conservateur, Thon, Huile, Sel, Eau, Conservateur)\n",
      "Le total de la facture est : 0.0\n",
      "Le total pour la catégorie viande est : 0.0\n",
      "Les prix par catégorie sont : List()\n",
      "Le total de TVA est : 0.0\n",
      "Le total des réduction est : 0.0\n",
      "Les trois premiers ingrédients sont : List()\n",
      "Le nom de tous les articles sont : \n"
     ]
    }
   ],
   "source": [
    "def allArticleNames:String = \"\"\n",
    "\n",
    "println(\"Le nom de tous les articles sont : \" + allArticleNames)"
   ]
  },
  {
   "cell_type": "code",
   "execution_count": null,
   "metadata": {},
   "outputs": [],
   "source": []
  }
 ],
 "metadata": {
  "kernelspec": {
   "display_name": "JupyterScala",
   "language": "scala",
   "name": "custom"
  },
  "language_info": {
   "codemirror_mode": "text/x-scala",
   "file_extension": ".scala",
   "mimetype": "text/x-scala",
   "name": "scala211",
   "nbconvert_exporter": "script",
   "pygments_lexer": "scala",
   "version": "2.11.11"
  }
 },
 "nbformat": 4,
 "nbformat_minor": 2
}
